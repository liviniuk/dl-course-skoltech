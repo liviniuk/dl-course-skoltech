{
 "cells": [
  {
   "cell_type": "markdown",
   "metadata": {},
   "source": [
    "# Natural Language Processing with Deep Learning (7 points)\n",
    "\n",
    "Today we're gonna apply the newly learned DL tools for sequence processing to the task of predicting job salary.\n",
    "\n",
    "Special thanks to [Oleg Vasilev](https://github.com/Omrigan/) for the assignment core (orignally written for theano/tensorflow)."
   ]
  },
  {
   "cell_type": "code",
   "execution_count": 1,
   "metadata": {},
   "outputs": [],
   "source": [
    "import numpy as np\n",
    "import pandas as pd\n",
    "import matplotlib.pyplot as plt\n",
    "%matplotlib inline"
   ]
  },
  {
   "cell_type": "markdown",
   "metadata": {},
   "source": [
    "### About the challenge\n",
    "For starters, let's download the data from __[here](https://yadi.sk/d/vVEOWPFY3NruT7)__.\n",
    "\n",
    "You can also get it from the competition [page](https://www.kaggle.com/c/job-salary-prediction/data) (in that case, pick `Train_rev1.*`).\n",
    "\n",
    "\n",
    "Our task is to predict one number, __SalaryNormalized__, in the sense of minimizing __Mean Absolute Error__.\n",
    "\n",
    "<img src=\"https://storage.googleapis.com/kaggle-competitions/kaggle/3342/media/salary%20prediction%20engine%20v2.png\" width=400px>\n",
    "\n",
    "To do so, our model ca access a number of features:\n",
    "* Free text: __`Title`__ and  __`FullDescription`__\n",
    "* Categorical: __`Category`__, __`Company`__, __`LocationNormalized`__, __`ContractType`__, and __`ContractTime`__.\n",
    "\n",
    "\n",
    "You can read more [in the official description](https://www.kaggle.com/c/job-salary-prediction#description)."
   ]
  },
  {
   "cell_type": "code",
   "execution_count": 2,
   "metadata": {},
   "outputs": [
    {
     "data": {
      "text/plain": [
       "11398     my client requires highly experienced painter/...\n",
       "240649    Senior Estimator  Water  Derbyshire We are cur...\n",
       "192410    A PHP Developer With Some Front End Skills is ...\n",
       "Name: FullDescription, dtype: object"
      ]
     },
     "execution_count": 2,
     "metadata": {},
     "output_type": "execute_result"
    }
   ],
   "source": [
    "data = pd.read_csv(\"./Train_rev1.csv\", index_col=None)\n",
    "data['Log1pSalary'] = np.log1p(data['SalaryNormalized']).astype('float32')\n",
    "\n",
    "text_columns = [\"Title\", \"FullDescription\"]\n",
    "categorical_columns = [\"Category\", \"Company\", \"LocationNormalized\", \"ContractType\", \"ContractTime\"]\n",
    "target_column = \"Log1pSalary\"\n",
    "data[categorical_columns] = data[categorical_columns].fillna('NaN') # cast nan to string\n",
    "\n",
    "data.sample(3)['FullDescription']"
   ]
  },
  {
   "cell_type": "code",
   "execution_count": 3,
   "metadata": {},
   "outputs": [
    {
     "data": {
      "text/html": [
       "<div>\n",
       "<style scoped>\n",
       "    .dataframe tbody tr th:only-of-type {\n",
       "        vertical-align: middle;\n",
       "    }\n",
       "\n",
       "    .dataframe tbody tr th {\n",
       "        vertical-align: top;\n",
       "    }\n",
       "\n",
       "    .dataframe thead th {\n",
       "        text-align: right;\n",
       "    }\n",
       "</style>\n",
       "<table border=\"1\" class=\"dataframe\">\n",
       "  <thead>\n",
       "    <tr style=\"text-align: right;\">\n",
       "      <th></th>\n",
       "      <th>Id</th>\n",
       "      <th>Title</th>\n",
       "      <th>FullDescription</th>\n",
       "      <th>LocationRaw</th>\n",
       "      <th>LocationNormalized</th>\n",
       "      <th>ContractType</th>\n",
       "      <th>ContractTime</th>\n",
       "      <th>Company</th>\n",
       "      <th>Category</th>\n",
       "      <th>SalaryRaw</th>\n",
       "      <th>SalaryNormalized</th>\n",
       "      <th>SourceName</th>\n",
       "      <th>Log1pSalary</th>\n",
       "    </tr>\n",
       "  </thead>\n",
       "  <tbody>\n",
       "    <tr>\n",
       "      <th>112435</th>\n",
       "      <td>69690892</td>\n",
       "      <td>ASPNET Developer  ****k  IP</td>\n",
       "      <td>C / ASP.NET Developer – (ASP.NET, C, SQL Serve...</td>\n",
       "      <td>Ipswich Suffolk England</td>\n",
       "      <td>Ipswich</td>\n",
       "      <td>NaN</td>\n",
       "      <td>NaN</td>\n",
       "      <td>Progressive Recruitment</td>\n",
       "      <td>IT Jobs</td>\n",
       "      <td>25000 -30000 per annum</td>\n",
       "      <td>27500</td>\n",
       "      <td>gojobsearch.co.uk</td>\n",
       "      <td>10.221977</td>\n",
       "    </tr>\n",
       "    <tr>\n",
       "      <th>218220</th>\n",
       "      <td>72301816</td>\n",
       "      <td>Pest Control Area Sales Manager</td>\n",
       "      <td>Our client is one of the countries largest, an...</td>\n",
       "      <td>Aberdeenshire</td>\n",
       "      <td>Aberdeenshire</td>\n",
       "      <td>full_time</td>\n",
       "      <td>permanent</td>\n",
       "      <td>W5 Recruitment</td>\n",
       "      <td>Energy, Oil &amp; Gas Jobs</td>\n",
       "      <td>From 18,000 to 26,000 per year + + Company Car...</td>\n",
       "      <td>22000</td>\n",
       "      <td>jobsinsocialwork.co.uk</td>\n",
       "      <td>9.998843</td>\n",
       "    </tr>\n",
       "    <tr>\n",
       "      <th>132546</th>\n",
       "      <td>70221961</td>\n",
       "      <td>Consultant  Junior/Grad role</td>\n",
       "      <td>The Company For the ambitious software profess...</td>\n",
       "      <td>Belfast</td>\n",
       "      <td>Belfast</td>\n",
       "      <td>full_time</td>\n",
       "      <td>permanent</td>\n",
       "      <td>Brightwater Group</td>\n",
       "      <td>IT Jobs</td>\n",
       "      <td>15000 - 25000</td>\n",
       "      <td>20000</td>\n",
       "      <td>nijobs.com</td>\n",
       "      <td>9.903538</td>\n",
       "    </tr>\n",
       "  </tbody>\n",
       "</table>\n",
       "</div>"
      ],
      "text/plain": [
       "              Id                            Title  \\\n",
       "112435  69690892      ASPNET Developer  ****k  IP   \n",
       "218220  72301816  Pest Control Area Sales Manager   \n",
       "132546  70221961     Consultant  Junior/Grad role   \n",
       "\n",
       "                                          FullDescription  \\\n",
       "112435  C / ASP.NET Developer – (ASP.NET, C, SQL Serve...   \n",
       "218220  Our client is one of the countries largest, an...   \n",
       "132546  The Company For the ambitious software profess...   \n",
       "\n",
       "                    LocationRaw LocationNormalized ContractType ContractTime  \\\n",
       "112435  Ipswich Suffolk England            Ipswich          NaN          NaN   \n",
       "218220            Aberdeenshire      Aberdeenshire    full_time    permanent   \n",
       "132546                  Belfast            Belfast    full_time    permanent   \n",
       "\n",
       "                        Company                Category  \\\n",
       "112435  Progressive Recruitment                 IT Jobs   \n",
       "218220           W5 Recruitment  Energy, Oil & Gas Jobs   \n",
       "132546        Brightwater Group                 IT Jobs   \n",
       "\n",
       "                                                SalaryRaw  SalaryNormalized  \\\n",
       "112435                             25000 -30000 per annum             27500   \n",
       "218220  From 18,000 to 26,000 per year + + Company Car...             22000   \n",
       "132546                                      15000 - 25000             20000   \n",
       "\n",
       "                    SourceName  Log1pSalary  \n",
       "112435       gojobsearch.co.uk    10.221977  \n",
       "218220  jobsinsocialwork.co.uk     9.998843  \n",
       "132546              nijobs.com     9.903538  "
      ]
     },
     "execution_count": 3,
     "metadata": {},
     "output_type": "execute_result"
    }
   ],
   "source": [
    "data.sample(3)"
   ]
  },
  {
   "cell_type": "markdown",
   "metadata": {},
   "source": [
    "### The NLP part\n",
    "\n",
    "To even begin training our neural network, we're gonna need to preprocess the text features: tokenize it and build the token vocabularies.\n",
    "\n",
    "Since it is not an NLP course, we're gonna use simple built-in NLTK tokenization."
   ]
  },
  {
   "cell_type": "code",
   "execution_count": 4,
   "metadata": {},
   "outputs": [
    {
     "name": "stdout",
     "output_type": "stream",
     "text": [
      "Before\n",
      "0         Engineering Systems Analyst\n",
      "100000                   HR Assistant\n",
      "200000           Senior EC&I Engineer\n",
      "Name: Title, dtype: object\n"
     ]
    }
   ],
   "source": [
    "print(\"Before\")\n",
    "print(data[\"Title\"][::100000])"
   ]
  },
  {
   "cell_type": "code",
   "execution_count": 5,
   "metadata": {},
   "outputs": [],
   "source": [
    "import nltk\n",
    "tokenizer = nltk.tokenize.WordPunctTokenizer()\n",
    "\n",
    "for col in text_columns:\n",
    "    data[col] = data[col].apply(lambda l: ' '.join(tokenizer.tokenize(str(l).lower())))"
   ]
  },
  {
   "cell_type": "markdown",
   "metadata": {},
   "source": [
    "Now we can assume that our text is a space-separated list of tokens:"
   ]
  },
  {
   "cell_type": "code",
   "execution_count": 6,
   "metadata": {},
   "outputs": [
    {
     "name": "stdout",
     "output_type": "stream",
     "text": [
      "After\n",
      "0         engineering systems analyst\n",
      "100000                   hr assistant\n",
      "200000         senior ec & i engineer\n",
      "Name: Title, dtype: object\n"
     ]
    }
   ],
   "source": [
    "print(\"After\")\n",
    "print(data[\"Title\"][::100000])"
   ]
  },
  {
   "cell_type": "markdown",
   "metadata": {},
   "source": [
    "Not all words are equally useful. Some of them are typos or rare words that are only present a few times. \n",
    "\n",
    "Let's see how many times is each word present in the data so that we can build a \"white list\" of known words."
   ]
  },
  {
   "cell_type": "code",
   "execution_count": 7,
   "metadata": {},
   "outputs": [],
   "source": [
    "from collections import Counter\n",
    "token_counts = Counter()\n",
    "\n",
    "# Count how many times does each token occur in \"Title\" and \"FullDescription\"\n",
    "# <YOUR CODE HERE>\n",
    "for col in text_columns:\n",
    "    data[col].apply(lambda l: token_counts.update(l.split()))"
   ]
  },
  {
   "cell_type": "code",
   "execution_count": 8,
   "metadata": {},
   "outputs": [
    {
     "name": "stdout",
     "output_type": "stream",
     "text": [
      "Total unique tokens : 202704\n",
      "('and', 2657388)\n",
      "('.', 2523216)\n",
      "(',', 2318606)\n",
      "('the', 2080994)\n",
      "('to', 2019884)\n",
      "...\n",
      "('stephanietraveltraderecruitmnt', 1)\n",
      "('ruabon', 1)\n",
      "('lowehays', 1)\n",
      "Correct!\n"
     ]
    }
   ],
   "source": [
    "print(\"Total unique tokens :\", len(token_counts))\n",
    "print('\\n'.join(map(str, token_counts.most_common(n=5))))\n",
    "print('...')\n",
    "print('\\n'.join(map(str, token_counts.most_common()[-3:])))\n",
    "\n",
    "assert token_counts.most_common(1)[0][1] in  range(2600000, 2700000)\n",
    "assert len(token_counts) in range(200000, 210000)\n",
    "print('Correct!')"
   ]
  },
  {
   "cell_type": "code",
   "execution_count": 9,
   "metadata": {},
   "outputs": [
    {
     "data": {
      "text/plain": [
       "Text(0.5, 0, 'Counts')"
      ]
     },
     "execution_count": 9,
     "metadata": {},
     "output_type": "execute_result"
    },
    {
     "data": {
      "image/png": "[encoded data removed]",
      "text/plain": [
       "<Figure size 432x288 with 1 Axes>"
      ]
     },
     "metadata": {
      "needs_background": "light"
     },
     "output_type": "display_data"
    }
   ],
   "source": [
    "# Let's see how many words are there for each count\n",
    "\n",
    "_ = plt.hist(list(token_counts.values()), range=[0, 10**4], bins=50, log=True)\n",
    "plt.xlabel(\"Counts\")"
   ]
  },
  {
   "cell_type": "markdown",
   "metadata": {},
   "source": [
    "__Task 1.1__ Get a list of all tokens that occur at least 10 times."
   ]
  },
  {
   "cell_type": "code",
   "execution_count": 10,
   "metadata": {},
   "outputs": [],
   "source": [
    "min_count = 10\n",
    "\n",
    "# tokens from token_counts keys that had at least min_count occurrences throughout the dataset\n",
    "# <YOUR CODE HERE>\n",
    "tokens = []\n",
    "for token in token_counts.most_common():\n",
    "    if token[1] >= min_count:\n",
    "        tokens.append(token[0]) \n",
    "\n",
    "# Add a special tokens for unknown and empty words\n",
    "UNK, PAD = \"UNK\", \"PAD\"\n",
    "tokens = [UNK, PAD] + tokens"
   ]
  },
  {
   "cell_type": "code",
   "execution_count": 11,
   "metadata": {},
   "outputs": [
    {
     "name": "stdout",
     "output_type": "stream",
     "text": [
      "Tokens left: 34158\n",
      "Correct!\n"
     ]
    }
   ],
   "source": [
    "print(\"Tokens left:\", len(tokens))\n",
    "assert type(tokens)==list\n",
    "assert len(tokens) in range(32000,35000)\n",
    "assert 'me' in tokens\n",
    "assert UNK in tokens\n",
    "print(\"Correct!\")"
   ]
  },
  {
   "cell_type": "markdown",
   "metadata": {},
   "source": [
    "__Task 1.2__ Build an inverse token index: a dictionary from token(string) to it's index in `tokens` (int)"
   ]
  },
  {
   "cell_type": "code",
   "execution_count": 12,
   "metadata": {},
   "outputs": [],
   "source": [
    "token_to_id = {t: idx for idx,t in enumerate(tokens)} # <your code here>"
   ]
  },
  {
   "cell_type": "code",
   "execution_count": 13,
   "metadata": {},
   "outputs": [
    {
     "name": "stdout",
     "output_type": "stream",
     "text": [
      "Correct!\n"
     ]
    }
   ],
   "source": [
    "assert isinstance(token_to_id, dict)\n",
    "assert len(token_to_id) == len(tokens)\n",
    "for tok in tokens:\n",
    "    assert tokens[token_to_id[tok]] == tok\n",
    "\n",
    "print(\"Correct!\")"
   ]
  },
  {
   "cell_type": "markdown",
   "metadata": {},
   "source": [
    "And finally, let's use the vocabulary you've built to map text lines into torch-digestible matrices."
   ]
  },
  {
   "cell_type": "code",
   "execution_count": 14,
   "metadata": {},
   "outputs": [],
   "source": [
    "UNK_IX, PAD_IX = map(token_to_id.get, [UNK, PAD])\n",
    "\n",
    "def as_matrix(sequences, max_len=None):\n",
    "    \"\"\" Convert a list of tokens into a matrix with padding \"\"\"\n",
    "    if isinstance(sequences[0], str):\n",
    "        sequences = list(map(str.split, sequences))\n",
    "        \n",
    "    max_len = min(max(map(len, sequences)), max_len or float('inf'))\n",
    "    \n",
    "    matrix = np.full((len(sequences), max_len), np.int32(PAD_IX))\n",
    "    for i,seq in enumerate(sequences):\n",
    "        row_ix = [token_to_id.get(word, UNK_IX) for word in seq[:max_len]]\n",
    "        matrix[i, :len(row_ix)] = row_ix\n",
    "    \n",
    "    return matrix"
   ]
  },
  {
   "cell_type": "code",
   "execution_count": 15,
   "metadata": {},
   "outputs": [
    {
     "name": "stdout",
     "output_type": "stream",
     "text": [
      "engineering systems analyst\n",
      "hr assistant\n",
      "senior ec & i engineer\n",
      "\n",
      "Matrix:\n",
      "[[ 136  114  269    1    1]\n",
      " [ 311  236    1    1    1]\n",
      " [ 100 4120  135  388   83]]\n"
     ]
    }
   ],
   "source": [
    "#### print(\"Lines:\")\n",
    "print('\\n'.join(data[\"Title\"][::100000].values), end='\\n\\n')\n",
    "print(\"Matrix:\")\n",
    "print(as_matrix(data[\"Title\"][::100000]))"
   ]
  },
  {
   "cell_type": "markdown",
   "metadata": {},
   "source": [
    "Now let's  encode the categirical data we have.\n",
    "\n",
    "As usual, we shall use one-hot encoding for simplicity. Kudos if you implement tf-idf, target averaging or pseudo-counter-based encoding."
   ]
  },
  {
   "cell_type": "code",
   "execution_count": 16,
   "metadata": {},
   "outputs": [
    {
     "data": {
      "text/plain": [
       "DictVectorizer(dtype=<class 'numpy.float32'>, separator='=', sort=True,\n",
       "        sparse=False)"
      ]
     },
     "execution_count": 16,
     "metadata": {},
     "output_type": "execute_result"
    }
   ],
   "source": [
    "from sklearn.feature_extraction import DictVectorizer\n",
    "\n",
    "# we only consider top-1k most frequent companies to minimize memory usage\n",
    "top_companies, top_counts = zip(*Counter(data['Company']).most_common(1000))\n",
    "recognized_companies = set(top_companies)\n",
    "data[\"Company\"] = data[\"Company\"].apply(lambda comp: comp if comp in recognized_companies else \"Other\")\n",
    "\n",
    "categorical_vectorizer = DictVectorizer(dtype=np.float32, sparse=False)\n",
    "categorical_vectorizer.fit(data[categorical_columns].apply(dict, axis=1))"
   ]
  },
  {
   "cell_type": "markdown",
   "metadata": {},
   "source": [
    "### The data science part\n",
    "\n",
    "Once we've learned to tokenize the data, let's design a machine learning experiment.\n",
    "\n",
    "As before, we won't focus too much on validation, opting for a simple train-test split.\n",
    "\n",
    "__To be completely rigorous,__ we've comitted a small crime here: we used the whole data for tokenization and vocabulary building. A more strict way would be to do that part on training set only. You may want to do that and measure the magnitude of changes."
   ]
  },
  {
   "cell_type": "code",
   "execution_count": 17,
   "metadata": {},
   "outputs": [
    {
     "name": "stdout",
     "output_type": "stream",
     "text": [
      "Train size =  220291\n",
      "Validation size =  24477\n"
     ]
    }
   ],
   "source": [
    "from sklearn.model_selection import train_test_split\n",
    "\n",
    "data_train, data_val = train_test_split(data, test_size=0.1, random_state=42)\n",
    "\n",
    "print(\"Train size = \", len(data_train))\n",
    "print(\"Validation size = \", len(data_val))"
   ]
  },
  {
   "cell_type": "code",
   "execution_count": 18,
   "metadata": {},
   "outputs": [],
   "source": [
    "def generate_batch(data, batch_size=None, replace=True, max_len=None):\n",
    "    \"\"\"\n",
    "    Creates a pytorch-friendly dict from the batch data.\n",
    "    :returns: a dict with {'title' : int64[batch, title_max_len]\n",
    "    \"\"\"\n",
    "    if batch_size is not None:\n",
    "        data = data.sample(batch_size, replace=replace)\n",
    "    \n",
    "    batch = {}\n",
    "    for col in text_columns:\n",
    "        batch[col] = as_matrix(data[col].values, max_len)\n",
    "    \n",
    "    batch['Categorical'] = categorical_vectorizer.transform(data[categorical_columns].apply(dict, axis=1))\n",
    "    \n",
    "    if target_column in data.columns:\n",
    "        batch[target_column] = data[target_column].values\n",
    "    \n",
    "    return batch"
   ]
  },
  {
   "cell_type": "code",
   "execution_count": 19,
   "metadata": {},
   "outputs": [
    {
     "data": {
      "text/plain": [
       "{'Title': array([[  100,  1912,   210,    13,   112,    13,   112,   289,  1091,\n",
       "           582],\n",
       "        [  100,  1207,     2,   365,   451,  1860,  1205,     1,     1,\n",
       "             1],\n",
       "        [ 2118,   402, 16243,   546,  1216,   185,  1566,   745,     1,\n",
       "             1]], dtype=int32),\n",
       " 'FullDescription': array([[ 100, 1912,  210, 3968,   13,  112, 3968,   13,  112,  289],\n",
       "        [  53,  826,   23,  100, 1860,  163,  890, 1366,    2, 1207],\n",
       "        [  56,   84,  171,   22,  168,   54,   10,    7, 2118,  402]],\n",
       "       dtype=int32),\n",
       " 'Categorical': array([[0., 0., 0., ..., 0., 0., 0.],\n",
       "        [0., 0., 0., ..., 0., 0., 0.],\n",
       "        [0., 0., 0., ..., 0., 0., 0.]], dtype=float32),\n",
       " 'Log1pSalary': array([10.915107, 10.021315, 10.393325], dtype=float32)}"
      ]
     },
     "execution_count": 19,
     "metadata": {},
     "output_type": "execute_result"
    }
   ],
   "source": [
    "generate_batch(data_train, 3, max_len=10)"
   ]
  },
  {
   "cell_type": "markdown",
   "metadata": {},
   "source": [
    "### Finally, let's talk deep learning\n",
    "\n",
    "Out model consists of three branches:\n",
    "* Title encoder\n",
    "* Description encoder\n",
    "* Categorical features encoder\n",
    "\n",
    "We will then feed all 3 branches into one common network that predicts salary.\n",
    "\n",
    "![scheme](https://github.com/yandexdataschool/Practical_DL/raw/master/homework04/conv_salary_architecture.png)"
   ]
  },
  {
   "cell_type": "markdown",
   "metadata": {},
   "source": [
    "By default, both text vectorizers shall use 1d convolutions, followed by global pooling over time."
   ]
  },
  {
   "cell_type": "code",
   "execution_count": 20,
   "metadata": {},
   "outputs": [],
   "source": [
    "import torch, torch.nn as nn\n",
    "import torch.nn.functional as F\n",
    "from torch.autograd import Variable\n",
    "\n",
    "class GlobalMaxPooling(nn.Module):\n",
    "    def __init__(self, dim=-1):\n",
    "        super(self.__class__, self).__init__()\n",
    "        self.dim = dim\n",
    "        \n",
    "    def forward(self, x):\n",
    "        return x.max(dim=self.dim)[0]"
   ]
  },
  {
   "cell_type": "code",
   "execution_count": 21,
   "metadata": {},
   "outputs": [],
   "source": [
    "#!pip install gensim"
   ]
  },
  {
   "cell_type": "code",
   "execution_count": 22,
   "metadata": {
    "scrolled": true
   },
   "outputs": [],
   "source": [
    "# Pre-trained word2vec from http://mccormickml.com/2016/04/12/googles-pretrained-word2vec-model-in-python/\n",
    "import gensim\n",
    "\n",
    "pretrained_enc = True\n",
    "\n",
    "if pretrained_enc == True:\n",
    "    word2vec = gensim.models.KeyedVectors.load_word2vec_format(\n",
    "        './model/GoogleNews-vectors-negative300.bin', binary=True)\n",
    "    \n",
    "    mean_std = word2vec.vectors.std(axis=0).mean()\n",
    "\n",
    "    google_emb = nn.Embedding(len(tokens), 300, padding_idx=PAD_IX)\n",
    "    for i, token in enumerate(tokens):\n",
    "        if not token in word2vec:\n",
    "            # Try uppercase\n",
    "            token = token[0].upper() + token[1:]\n",
    "        if not token in word2vec:\n",
    "            # Try CAPS\n",
    "            token = token[0] + token[1:].upper()\n",
    "        if token in word2vec:\n",
    "            google_emb.weight.data[i] = torch.tensor(word2vec[token], dtype=torch.float32)\n",
    "        else:\n",
    "            # Because Google's word2vec has different distribution\n",
    "            google_emb.weight.data[i] *= mean_std\n",
    "            \n",
    "    del word2vec"
   ]
  },
  {
   "cell_type": "code",
   "execution_count": 23,
   "metadata": {},
   "outputs": [],
   "source": [
    "class TitleEncoder(nn.Module):\n",
    "    def __init__(self, n_tokens=len(tokens), out_size=64, pretrained_enc=pretrained_enc):\n",
    "        \"\"\" \n",
    "        A simple sequential encoder for titles.\n",
    "        x -> emb -> conv -> global_max -> relu -> dense\n",
    "        \"\"\"\n",
    "        super(self.__class__, self).__init__()\n",
    "        if pretrained_enc == True:\n",
    "            self.emb = google_emb\n",
    "        else:\n",
    "            self.emb = nn.Embedding(n_tokens, 300, padding_idx=PAD_IX)\n",
    "        self.conv1 = nn.Conv1d(300, out_size, kernel_size=3, padding=1)\n",
    "        self.pool1 = GlobalMaxPooling()\n",
    "        self.dense = nn.Linear(out_size, out_size)\n",
    "\n",
    "    def forward(self, text_ix):\n",
    "        \"\"\"\n",
    "        :param text_ix: int64 Variable of shape [batch_size, max_len]\n",
    "        :returns: float32 Variable of shape [batch_size, out_size]\n",
    "        \"\"\"\n",
    "        h = self.emb(text_ix)\n",
    "\n",
    "        # we transpose from [batch, time, units] to [batch, units, time] to fit Conv1d dim order\n",
    "        h = torch.transpose(h, 1, 2)\n",
    "        \n",
    "        # Apply the layers as defined above. Add some ReLUs before dense.\n",
    "        # <YOUR CODE>\n",
    "        h = self.conv1(h)\n",
    "        h = self.pool1(h)\n",
    "        h = self.dense(h.relu())\n",
    "        \n",
    "        return h # <YOUR CODE>"
   ]
  },
  {
   "cell_type": "code",
   "execution_count": 24,
   "metadata": {},
   "outputs": [
    {
     "name": "stdout",
     "output_type": "stream",
     "text": [
      "Seems fine\n"
     ]
    }
   ],
   "source": [
    "title_encoder = TitleEncoder(out_size=64).cuda()\n",
    "\n",
    "dummy_x = Variable(torch.LongTensor(generate_batch(data_train, 3)['Title']))\n",
    "dummy_v = title_encoder(dummy_x.cuda())\n",
    "\n",
    "assert isinstance(dummy_v, Variable)\n",
    "assert tuple(dummy_v.shape) == (dummy_x.shape[0], 64)\n",
    "\n",
    "del title_encoder\n",
    "print(\"Seems fine\")"
   ]
  },
  {
   "cell_type": "markdown",
   "metadata": {},
   "source": [
    "__Task 2.1__ Create description encoder"
   ]
  },
  {
   "cell_type": "code",
   "execution_count": 25,
   "metadata": {},
   "outputs": [],
   "source": [
    "# Define an encoder for job descriptions.\n",
    "# Use any means you want so long as it's torch.nn.Module.\n",
    "# <YOUR CODE HERE>\n",
    "class DescriptionEncoder(nn.Module):\n",
    "    def __init__(self, n_tokens=len(tokens), out_size=64, pretrained_enc=pretrained_enc):\n",
    "        \"\"\" \n",
    "        A simple sequential encoder for descriptions.\n",
    "        x -> emb -> conv -> global_max -> relu -> dense\n",
    "        \"\"\"\n",
    "        super(self.__class__, self).__init__()\n",
    "        if pretrained_enc == True:\n",
    "            self.emb = google_emb\n",
    "        else:\n",
    "            self.emb = nn.Embedding(n_tokens, 300, padding_idx=PAD_IX)\n",
    "        self.conv1 = nn.Conv1d(300, out_size, kernel_size=3, padding=1)\n",
    "        self.pool1 = GlobalMaxPooling()        \n",
    "        self.dense = nn.Linear(out_size, out_size)\n",
    "\n",
    "    def forward(self, text_ix):\n",
    "        \"\"\"\n",
    "        :param text_ix: int64 Variable of shape [batch_size, max_len]\n",
    "        :returns: float32 Variable of shape [batch_size, out_size]\n",
    "        \"\"\"\n",
    "        h = self.emb(text_ix)\n",
    "\n",
    "        # we transpose from [batch, time, units] to [batch, units, time] to fit Conv1d dim order\n",
    "        h = torch.transpose(h, 1, 2)\n",
    "        \n",
    "        h = self.conv1(h)\n",
    "        h = self.pool1(h)\n",
    "        h = self.dense(h.relu())\n",
    "        \n",
    "        return h"
   ]
  },
  {
   "cell_type": "code",
   "execution_count": 26,
   "metadata": {},
   "outputs": [
    {
     "name": "stdout",
     "output_type": "stream",
     "text": [
      "Seems fine too\n"
     ]
    }
   ],
   "source": [
    "# <Create description encoder>\n",
    "desc_encoder = DescriptionEncoder(out_size=64).cuda() \n",
    "\n",
    "dummy_x = Variable(torch.LongTensor(generate_batch(data_train, 3)['FullDescription']))\n",
    "dummy_v = desc_encoder(dummy_x.cuda())\n",
    "\n",
    "assert isinstance(dummy_v, Variable)\n",
    "assert tuple(dummy_v.shape) == (dummy_x.shape[0], 64)\n",
    "del desc_encoder\n",
    "print(\"Seems fine too\")"
   ]
  },
  {
   "cell_type": "markdown",
   "metadata": {},
   "source": [
    "__Task 2.2__ Build one network ~~to rule them all~~"
   ]
  },
  {
   "cell_type": "code",
   "execution_count": 27,
   "metadata": {},
   "outputs": [],
   "source": [
    "class FullNetwork(nn.Module):\n",
    "    \"\"\"\n",
    "    This class does all the steps from (title, desc, categorical) features -> predicted target\n",
    "    It unites title & desc encoders you defined above as long as some layers for head and categorical branch.\n",
    "    \"\"\"\n",
    "    \n",
    "    def __init__(self, n_tokens=len(tokens), n_cat_features=len(categorical_vectorizer.vocabulary_)):\n",
    "        super(self.__class__, self).__init__()\n",
    "        \n",
    "        self.title_encoder = TitleEncoder(out_size=64)\n",
    "        self.desc_encoder = DescriptionEncoder(out_size=64) # <YOUR CODE>\n",
    "        \n",
    "        # define layers for categorical features. A few dense layers would do.\n",
    "        # <YOUR CODE>\n",
    "        self.cat_encoder = nn.Sequential(nn.Linear(n_cat_features, 64*5),\n",
    "                                         nn.ReLU(),\n",
    "                                         nn.Linear(64*5, 64),\n",
    "                                        )\n",
    "        \n",
    "        # define \"output\" layers that process depend the three encoded vectors into answer\n",
    "        # <YOUR CODE>\n",
    "        self.output = nn.Sequential(nn.Linear(64*3, 64*5),\n",
    "                                    nn.ReLU(),\n",
    "                                    nn.Linear(64*5, 1)\n",
    "                                   )\n",
    "        \n",
    "        \n",
    "    def forward(self, title_ix, desc_ix, cat_features):\n",
    "        \"\"\"\n",
    "        :param title_ix: int32 Variable [batch, title_len], job titles encoded by as_matrix\n",
    "        :param desc_ix:  int32 Variable [batch, desc_len] , job descriptions encoded by as_matrix\n",
    "        :param cat_features: float32 Variable [batch, n_cat_features]\n",
    "        :returns: float32 Variable 1d [batch], predicted log1p-salary\n",
    "        \"\"\"\n",
    "        \n",
    "        # process each data source with it's respective encoder\n",
    "        title_h = self.title_encoder(title_ix)\n",
    "        desc_h = self.desc_encoder(desc_ix) # <YOUR CODE>\n",
    "        \n",
    "        # apply categorical encoder\n",
    "        cat_h = self.cat_encoder(cat_features) # <YOUR CODE>\n",
    "        \n",
    "        # concatenate all vectors together...\n",
    "        joint_h = torch.cat([title_h, desc_h, cat_h], dim=1)\n",
    "        \n",
    "        # ... and stack a few more layers at the top\n",
    "        out = self.output(joint_h)[:,0] # <YOUR CODE>\n",
    "        \n",
    "        # Note 1: do not forget to select first columns, [:, 0], to get to 1d outputs\n",
    "        # Note 2: please do not use output nonlinearities.\n",
    "        \n",
    "        return out # <YOUR CODE>"
   ]
  },
  {
   "cell_type": "code",
   "execution_count": 28,
   "metadata": {},
   "outputs": [],
   "source": [
    "model = FullNetwork().cuda()\n",
    "opt = torch.optim.Adam(model.parameters(), lr=1e-4)"
   ]
  },
  {
   "cell_type": "code",
   "execution_count": 29,
   "metadata": {},
   "outputs": [],
   "source": [
    "# test it on one batch\n",
    "\n",
    "batch = generate_batch(data_train, 32)\n",
    "\n",
    "title_ix = torch.tensor(batch[\"Title\"], dtype=torch.int64).cuda()\n",
    "desc_ix = torch.tensor(batch[\"FullDescription\"], dtype=torch.int64).cuda()\n",
    "cat_features = torch.tensor(batch[\"Categorical\"], dtype=torch.float32).cuda()\n",
    "reference = torch.tensor(batch[target_column], dtype=torch.float32).cuda()\n",
    "\n",
    "prediction = model(title_ix, desc_ix, cat_features)\n",
    "\n",
    "assert len(prediction.shape) == 1 and prediction.shape[0] == title_ix.shape[0]"
   ]
  },
  {
   "cell_type": "code",
   "execution_count": 30,
   "metadata": {},
   "outputs": [],
   "source": [
    "def compute_loss(reference, prediction):\n",
    "    \"\"\"\n",
    "    Computes objective for minimization.\n",
    "    By deafult we minimize MSE, but you are encouraged to try mix up MSE, MAE, huber loss, etc.\n",
    "    \"\"\"\n",
    "    return torch.mean((prediction - reference) ** 2)\n",
    "\n",
    "def compute_mae(reference, prediction):\n",
    "    \"\"\" Compute MAE on actual salary, assuming your model outputs log1p(salary)\"\"\"\n",
    "    return torch.abs(torch.exp(reference - 1) - torch.exp(prediction - 1)).mean()"
   ]
  },
  {
   "cell_type": "code",
   "execution_count": 31,
   "metadata": {},
   "outputs": [],
   "source": [
    "loss = compute_loss(reference, prediction)\n",
    "dummy_grads = torch.autograd.grad(loss, model.parameters(), retain_graph=True)\n",
    "for grad in dummy_grads:\n",
    "    assert grad is not None and not (grad == 0).all(), \"Some model parameters received zero grads. \" \\\n",
    "                                                       \"Double-check that your model uses all it's layers.\""
   ]
  },
  {
   "cell_type": "markdown",
   "metadata": {},
   "source": [
    "### Let's train it!"
   ]
  },
  {
   "cell_type": "code",
   "execution_count": 32,
   "metadata": {},
   "outputs": [],
   "source": [
    "from tqdm import tnrange\n",
    "def iterate_minibatches(data, batch_size=32, max_len=None,\n",
    "                        max_batches=None, shuffle=True, verbose=True):\n",
    "    indices = np.arange(len(data))\n",
    "    if shuffle:\n",
    "        indices = np.random.permutation(indices)\n",
    "    if max_batches is not None:\n",
    "        indices = indices[: batch_size * max_batches]\n",
    "        \n",
    "    irange = tnrange if verbose else range\n",
    "    \n",
    "    for start in irange(0, len(indices), batch_size):\n",
    "        yield generate_batch(data.iloc[indices[start : start + batch_size]], max_len=max_len)"
   ]
  },
  {
   "cell_type": "code",
   "execution_count": 33,
   "metadata": {},
   "outputs": [],
   "source": [
    "num_epochs = 100\n",
    "max_len = 100\n",
    "batch_size = 100 # 32\n",
    "batches_per_epoch = 200 #100"
   ]
  },
  {
   "cell_type": "code",
   "execution_count": 34,
   "metadata": {
    "scrolled": true
   },
   "outputs": [],
   "source": [
    "# !pip install livelossplot"
   ]
  },
  {
   "cell_type": "code",
   "execution_count": 35,
   "metadata": {},
   "outputs": [],
   "source": [
    "from IPython.display import clear_output\n",
    "from livelossplot import PlotLosses\n",
    "from copy import deepcopy\n",
    "\n",
    "# \"Optimizing seriously\" params\n",
    "best_val_mae = None\n",
    "patience = 5\n",
    "\n",
    "liveloss = PlotLosses()"
   ]
  },
  {
   "cell_type": "code",
   "execution_count": 38,
   "metadata": {},
   "outputs": [],
   "source": [
    "# In case you want to freeze/unfreeze embedding weights for training.\n",
    "# google_emb.weight.requires_grad = False\n",
    "google_emb.weight.requires_grad = True"
   ]
  },
  {
   "cell_type": "code",
   "execution_count": 39,
   "metadata": {
    "scrolled": false
   },
   "outputs": [
    {
     "data": {
      "image/png": "[encoded data removed]",
      "text/plain": [
       "<Figure size 864x576 with 2 Axes>"
      ]
     },
     "metadata": {
      "needs_background": "light"
     },
     "output_type": "display_data"
    },
    {
     "name": "stdout",
     "output_type": "stream",
     "text": [
      "loss:\n",
      "training   (min:    0.047, max:   33.111, cur:    0.050)\n",
      "validation (min:    0.057, max:    0.916, cur:    0.058)\n",
      "\n",
      "MAE:\n",
      "training   (min: 2036.716, max: 9906.566, cur: 2094.308)\n",
      "validation (min: 2243.556, max: 5823.931, cur: 2288.844)\n",
      "\n",
      "Early Stopping. Loading best model.\n"
     ]
    }
   ],
   "source": [
    "patience_countdown = patience\n",
    "\n",
    "for epoch_i in range(num_epochs):\n",
    "    logs = {}\n",
    "    \n",
    "    print(\"Training:\")\n",
    "    train_loss = train_mae = train_batches = 0    \n",
    "    model.train(True)\n",
    "    \n",
    "    for batch in iterate_minibatches(data_train, max_batches=batches_per_epoch):\n",
    "        title_ix = torch.tensor(batch[\"Title\"], dtype=torch.int64).cuda()\n",
    "        desc_ix = torch.tensor(batch[\"FullDescription\"], dtype=torch.int64).cuda()\n",
    "        cat_features = torch.tensor(batch[\"Categorical\"], dtype=torch.float32).cuda()\n",
    "        reference = torch.tensor(batch[target_column], dtype=torch.float32).cuda()\n",
    "\n",
    "        prediction = model(title_ix, desc_ix, cat_features)\n",
    "\n",
    "        loss = compute_loss(reference, prediction)\n",
    "        loss.backward()\n",
    "        opt.step()\n",
    "        opt.zero_grad()\n",
    "\n",
    "        train_loss += loss.data.cpu().numpy()\n",
    "        train_mae += compute_mae(reference, prediction).data.cpu().numpy()\n",
    "        train_batches += 1\n",
    "    \n",
    "    logs['loss'] = train_loss.item() / train_batches\n",
    "    logs['MAE'] = train_mae.item() / train_batches\n",
    "#     print(\"\\tLoss:\\t%.5f\" % (train_loss / train_batches))\n",
    "#     print(\"\\tMAE:\\t%.5f\" % (train_mae / train_batches))\n",
    "#     print('\\n\\n')\n",
    "    \n",
    "    print(\"Validation:\")\n",
    "    val_loss = val_mae = val_batches = 0\n",
    "    model.train(False)\n",
    "    \n",
    "    for batch in iterate_minibatches(data_val, shuffle=False):\n",
    "        title_ix = torch.tensor(batch[\"Title\"], dtype=torch.int64).cuda()\n",
    "        desc_ix = torch.tensor(batch[\"FullDescription\"], dtype=torch.int64).cuda()\n",
    "        cat_features = torch.tensor(batch[\"Categorical\"], dtype=torch.float32).cuda()\n",
    "        reference = torch.tensor(batch[target_column], dtype=torch.float32).cuda()\n",
    "        prediction = model(title_ix, desc_ix, cat_features)\n",
    "        loss = compute_loss(reference, prediction)\n",
    "\n",
    "        val_loss += loss.data.cpu().numpy()\n",
    "        val_mae += compute_mae(reference, prediction).data.cpu().numpy()\n",
    "        val_batches += 1\n",
    "        \n",
    "    logs['val_loss'] = val_loss.item() / val_batches\n",
    "    logs['val_MAE'] = val_mae.item() / val_batches\n",
    "#     print(\"\\tLoss:\\t%.5f\" % (val_loss / val_batches))\n",
    "#     print(\"\\tMAE:\\t%.5f\" % (val_mae / val_batches))\n",
    "#     print('\\n\\n')\n",
    "\n",
    "    # Live Loss Visualization\n",
    "    liveloss.update(logs)\n",
    "    liveloss.draw()\n",
    "    print()\n",
    "    \n",
    "    # Maintain the best-on-validation snapshot\n",
    "    if best_val_mae is None:\n",
    "        best_val_mae = logs['val_MAE']\n",
    "        best_model_dict = deepcopy(model.state_dict())\n",
    "    elif logs['val_MAE'] < best_val_mae:\n",
    "        best_val_mae = logs['val_MAE']\n",
    "        best_model_dict = deepcopy(model.state_dict())\n",
    "        patience_countdown = patience\n",
    "    else:\n",
    "        patience_countdown -= 1\n",
    "        if patience_countdown <= 0:\n",
    "            print(\"Early Stopping. Loading best model.\")\n",
    "            model.load_state_dict(best_model_dict)\n",
    "            break\n",
    "\n",
    "    print(\"Patience =\", patience_countdown)\n",
    "    print()"
   ]
  },
  {
   "cell_type": "code",
   "execution_count": 40,
   "metadata": {},
   "outputs": [
    {
     "name": "stdout",
     "output_type": "stream",
     "text": [
      "Final eval:\n"
     ]
    },
    {
     "data": {
      "application/vnd.jupyter.widget-view+json": {
       "model_id": "43dea54b43bb4a32956cd179df3d01cf",
       "version_major": 2,
       "version_minor": 0
      },
      "text/plain": [
       "HBox(children=(IntProgress(value=0, max=765), HTML(value='')))"
      ]
     },
     "metadata": {},
     "output_type": "display_data"
    },
    {
     "name": "stdout",
     "output_type": "stream",
     "text": [
      "\n",
      "\tLoss:\t0.05701\n",
      "\tMAE:\t2243.55582\n",
      "\n",
      "\n",
      "\n"
     ]
    }
   ],
   "source": [
    "print(\"Final eval:\")\n",
    "val_loss = val_mae = val_batches = 0\n",
    "\n",
    "for batch in iterate_minibatches(data_val, shuffle=False):\n",
    "    title_ix = torch.tensor(batch[\"Title\"], dtype=torch.int64).cuda()\n",
    "    desc_ix = torch.tensor(batch[\"FullDescription\"], dtype=torch.int64).cuda()\n",
    "    cat_features = torch.tensor(batch[\"Categorical\"], dtype=torch.float32).cuda()\n",
    "    reference = torch.tensor(batch[target_column], dtype=torch.float32).cuda()\n",
    "\n",
    "    prediction = model(title_ix, desc_ix, cat_features)\n",
    "    loss = compute_loss(reference, prediction)\n",
    "\n",
    "    val_loss += loss.data.cpu().numpy()\n",
    "    val_mae += compute_mae(reference, prediction).data.cpu().numpy()\n",
    "    val_batches += 1\n",
    "\n",
    "print(\"\\tLoss:\\t%.5f\" % (val_loss / val_batches))\n",
    "print(\"\\tMAE:\\t%.5f\" % (val_mae / val_batches))\n",
    "print('\\n\\n')"
   ]
  },
  {
   "cell_type": "markdown",
   "metadata": {},
   "source": [
    "### Task 3: explaining network predictions\n",
    "\n",
    "It's usually a good idea to understand what your model does before you let it make actual decisions. It's simple for linear models: just see which words learned positive or negative weights. However, its much harder for neural networks that learn complex nonlinear dependencies.\n",
    "\n",
    "There are, however, some ways to look inside the black box:\n",
    "* Seeing how model responds to input perturbations\n",
    "* Finding inputs that maximize/minimize activation of some chosen neurons (_read more [on distill.pub](https://distill.pub/2018/building-blocks/)_)\n",
    "* Building local linear approximations to your neural network: [article](https://arxiv.org/abs/1602.04938), [eli5 library](https://github.com/TeamHG-Memex/eli5/tree/master/eli5/formatters)\n",
    "\n",
    "Today we gonna try the first method just because it's the simplest one.\n",
    "\n",
    "__Your task__ is to measure how does model prediction change if you replace certain tokens with UNKs. The core idea is that if dropping a word from text causes model to predict lower log-salary, than this word probably has positive contribution to salary (and vice versa)."
   ]
  },
  {
   "cell_type": "code",
   "execution_count": 41,
   "metadata": {},
   "outputs": [],
   "source": [
    "def explain(model, sample, col_name='Title'):\n",
    "    \"\"\" Computes the effect each word had on model predictions \"\"\"\n",
    "    \n",
    "    # compute model prediction on sample (scalar float log-salary)\n",
    "    # <YOUR CODE>\n",
    "    model.eval()\n",
    "    \n",
    "    # Store tokens for output\n",
    "    tokens = sample[col_name].split()\n",
    "    \n",
    "    # Represent as pandas DataFrame\n",
    "    sample = sample.to_frame('original').transpose()\n",
    "    \n",
    "    batch = generate_batch(sample, max_len=max_len)\n",
    "\n",
    "    title_ix = torch.tensor(batch[\"Title\"], dtype=torch.int64).cuda()\n",
    "    desc_ix = torch.tensor(batch[\"FullDescription\"], dtype=torch.int64).cuda()\n",
    "    cat_features = torch.tensor(batch[\"Categorical\"], dtype=torch.float32).cuda()\n",
    "    \n",
    "    with torch.no_grad():\n",
    "        baseline_pred = float(model(title_ix, desc_ix, cat_features))\n",
    "    \n",
    "    # for each i-th token in :col_name:, compute predictions on a copy of data\n",
    "    # where i-th token is dropped (UNK)\n",
    "    # <YOUR CODE>\n",
    "    def dropped(title, desc):\n",
    "        \"\"\"A generator for (title, desc) pairs with a value in col_name column dropped. \"\"\"\n",
    "        if col_name == 'Title':\n",
    "            for i in range(title.shape[1]):\n",
    "                title_copy = title.clone()\n",
    "                title_copy[0,i] = token_to_id[UNK]\n",
    "                yield title_copy, desc\n",
    "        elif col_name == 'FullDescription':\n",
    "            for i in range(desc.shape[1]):\n",
    "                desc_copy = desc.clone()\n",
    "                desc_copy[0,i] = token_to_id[UNK]\n",
    "                yield title, desc_copy\n",
    "    \n",
    "    with torch.no_grad():\n",
    "        predictions_without_word = [\n",
    "            float(model(title, desc, cat_features)) for title, desc in dropped(title_ix, desc_ix)\n",
    "        ]\n",
    "    \n",
    "    score_differences = [\n",
    "        prediction - baseline_pred for prediction in predictions_without_word\n",
    "    ]\n",
    "    \n",
    "    # return a list of pairs: [(token, score_difference)]\n",
    "    return list(zip(tokens, score_differences)) # <YOUR CODE>"
   ]
  },
  {
   "cell_type": "code",
   "execution_count": 42,
   "metadata": {},
   "outputs": [
    {
     "name": "stdout",
     "output_type": "stream",
     "text": [
      "Input: Id                                                             71432193\n",
      "Title                                                hr manager giraffe\n",
      "FullDescription       hospitality is giving guests more than they ex...\n",
      "LocationRaw                                           London South East\n",
      "LocationNormalized                                    South East London\n",
      "ContractType                                                        NaN\n",
      "ContractTime                                                  permanent\n",
      "Company                                                           Other\n",
      "Category                                          HR & Recruitment Jobs\n",
      "SalaryRaw                               From 40,000 to 45,000 per annum\n",
      "SalaryNormalized                                                  42500\n",
      "SourceName                                                totaljobs.com\n",
      "Log1pSalary                                                     10.6573\n",
      "Name: 173863, dtype: object\n",
      "[('hr', 0.029890060424804688), ('manager', -0.2168874740600586), ('giraffe', 0.007184028625488281)]\n"
     ]
    }
   ],
   "source": [
    "# debugging area\n",
    "sample = data.loc[np.random.randint(len(data))]\n",
    "print(\"Input:\", sample)\n",
    "\n",
    "tokens_and_weights = explain(model, sample, \"Title\")\n",
    "print(tokens_and_weights)"
   ]
  },
  {
   "cell_type": "code",
   "execution_count": 43,
   "metadata": {},
   "outputs": [],
   "source": [
    "from IPython.display import HTML, display_html\n",
    "\n",
    "def draw_html(tokens_and_weights, cmap=plt.get_cmap(\"bwr\"), display=True,\n",
    "              token_template=\"\"\"<span style=\"background-color: {color_hex}\">{token}</span>\"\"\",\n",
    "              font_style=\"font-size:14px;\"\n",
    "             ):\n",
    "    \n",
    "    def get_color_hex(weight):\n",
    "        rgba = cmap(1. / (1 + np.exp(weight)), bytes=True)\n",
    "        return '#%02X%02X%02X' % rgba[:3]\n",
    "    \n",
    "    tokens_html = [\n",
    "        token_template.format(token=token, color_hex=get_color_hex(weight))\n",
    "        for token, weight in tokens_and_weights\n",
    "    ]\n",
    "    \n",
    "    \n",
    "    raw_html = \"\"\"<p style=\"{}\">{}</p>\"\"\".format(font_style, ' '.join(tokens_html))\n",
    "    if display:\n",
    "        display_html(HTML(raw_html))\n",
    "        \n",
    "    return raw_html\n",
    "    "
   ]
  },
  {
   "cell_type": "code",
   "execution_count": 59,
   "metadata": {},
   "outputs": [
    {
     "name": "stdout",
     "output_type": "stream",
     "text": [
      "Index: 21910\n",
      "Salary (gbp): 9.538593292236328\n"
     ]
    },
    {
     "data": {
      "text/html": [
       "<p style=\"font-size:20px;\"><span style=\"background-color: #FF3E3E\">head</span> <span style=\"background-color: #FFEEEE\">of</span> <span style=\"background-color: #B3B3FF\">early</span> <span style=\"background-color: #9696FF\">years</span> <span style=\"background-color: #DCDCFF\">practice</span></p>"
      ]
     },
     "metadata": {},
     "output_type": "display_data"
    },
    {
     "data": {
      "text/html": [
       "<p style=\"font-size:14px;\"><span style=\"background-color: #E0E0FF\">the</span> <span style=\"background-color: #FFEAEA\">successful</span> <span style=\"background-color: #FFFAFA\">candidate</span> <span style=\"background-color: #FFFAFA\">will</span> <span style=\"background-color: #F2F2FF\">work</span> <span style=\"background-color: #CECEFF\">as</span> <span style=\"background-color: #F6F6FF\">part</span> <span style=\"background-color: #FFF4F4\">of</span> <span style=\"background-color: #FFFAFA\">a</span> <span style=\"background-color: #FFE4E4\">dual</span> <span style=\"background-color: #FFB8B8\">leadership</span> <span style=\"background-color: #FF8888\">management</span> <span style=\"background-color: #F8F8FF\">structure</span> <span style=\"background-color: #FFFCFC\">within</span> <span style=\"background-color: #D6D6FF\">one</span> <span style=\"background-color: #A6A6FF\">of</span> <span style=\"background-color: #EAEAFF\">our</span> <span style=\"background-color: #FCFCFF\">nurseries</span> <span style=\"background-color: #EAEAFF\">in</span> <span style=\"background-color: #F8F8FF\">south</span> <span style=\"background-color: #D8D8FF\">east</span> <span style=\"background-color: #FFD0D0\">essex</span> <span style=\"background-color: #DCDCFF\">.</span> <span style=\"background-color: #E0E0FF\">dual</span> <span style=\"background-color: #FFD6D6\">leadership</span> <span style=\"background-color: #FFE8E8\">is</span> <span style=\"background-color: #B6B6FF\">an</span> <span style=\"background-color: #FEFEFF\">innovative</span> <span style=\"background-color: #D6D6FF\">approach</span> <span style=\"background-color: #FFFCFC\">to</span> <span style=\"background-color: #EAEAFF\">nursery</span> <span style=\"background-color: #D3D3FF\">management</span> <span style=\"background-color: #D3D3FF\">and</span> <span style=\"background-color: #DCDCFF\">this</span> <span style=\"background-color: #FCFCFF\">role</span> <span style=\"background-color: #FCFCFF\">will</span> <span style=\"background-color: #E8E8FF\">work</span> <span style=\"background-color: #D0D0FF\">in</span> <span style=\"background-color: #EEEEFF\">partnership</span> <span style=\"background-color: #FFFAFA\">with</span> <span style=\"background-color: #F2F2FF\">the</span> <span style=\"background-color: #F0F0FF\">nursery</span> <span style=\"background-color: #FFF2F2\">manager</span> <span style=\"background-color: #F8F8FF\">.</span> <span style=\"background-color: #B8B8FF\">this</span> <span style=\"background-color: #F6F6FF\">enables</span> <span style=\"background-color: #C6C6FF\">us</span> <span style=\"background-color: #E3E3FF\">to</span> <span style=\"background-color: #FAFAFF\">place</span> <span style=\"background-color: #E2E2FF\">exceptional</span> <span style=\"background-color: #D3D3FF\">focus</span> <span style=\"background-color: #E6E6FF\">on</span> <span style=\"background-color: #CACAFF\">the</span> <span style=\"background-color: #F2F2FF\">educational</span> <span style=\"background-color: #FFFAFA\">aspects</span> <span style=\"background-color: #D2D2FF\">as</span> <span style=\"background-color: #FFFEFE\">well</span> <span style=\"background-color: #FCFCFF\">as</span> <span style=\"background-color: #E3E3FF\">the</span> <span style=\"background-color: #EAEAFF\">day</span> <span style=\"background-color: #FCFCFF\">to</span> <span style=\"background-color: #F8F8FF\">day</span> <span style=\"background-color: #D8D8FF\">running</span> <span style=\"background-color: #7E7EFF\">of</span> <span style=\"background-color: #FCFCFF\">our</span> <span style=\"background-color: #F3F3FF\">nurseries</span> <span style=\"background-color: #EAEAFF\">.</span> <span style=\"background-color: #D8D8FF\">we</span> <span style=\"background-color: #FFF8F8\">offer</span> <span style=\"background-color: #E3E3FF\">excellent</span> <span style=\"background-color: #9898FF\">training</span> <span style=\"background-color: #F3F3FF\">and</span> <span style=\"background-color: #FFEAEA\">development</span> <span style=\"background-color: #ECECFF\">opportunities</span> <span style=\"background-color: #DADAFF\">to</span> <span style=\"background-color: #FCFCFF\">all</span> <span style=\"background-color: #FFF6F6\">of</span> <span style=\"background-color: #FEFEFF\">our</span> <span style=\"background-color: #FFFEFE\">staff</span> <span style=\"background-color: #C0C0FF\">.</span> <span style=\"background-color: #FCFCFF\">requirements</span> <span style=\"background-color: #E0E0FF\">of</span> <span style=\"background-color: #F3F3FF\">role</span> <span style=\"background-color: #FFF4F4\">educated</span> <span style=\"background-color: #E8E8FF\">to</span> <span style=\"background-color: #CECEFF\">degree</span> <span style=\"background-color: #EEEEFF\">level</span> <span style=\"background-color: #EEEEFF\">in</span> <span style=\"background-color: #FFF8F8\">early</span> <span style=\"background-color: #ECECFF\">years</span> <span style=\"background-color: #F8F8FF\">/</span> <span style=\"background-color: #FF6969\">qts</span> <span style=\"background-color: #FF4141\">,</span> <span style=\"background-color: #A2A2FF\">or</span> <span style=\"background-color: #FFDCDC\">hold</span> <span style=\"background-color: #FFE4E4\">a</span> <span style=\"background-color: #FFFEFE\">level</span> <span style=\"background-color: #FFFAFA\">3</span> <span style=\"background-color: #FAFAFF\">qualification</span> <span style=\"background-color: #FFFCFC\">in</span></p>"
      ]
     },
     "metadata": {},
     "output_type": "display_data"
    }
   ],
   "source": [
    "i = np.random.randint(len(data))\n",
    "sample = data.loc[i]\n",
    "print(\"Index:\", i)\n",
    "\n",
    "# predict salary on sample\n",
    "batch = generate_batch(sample.to_frame('original').transpose(), max_len=max_len)\n",
    "title_ix = torch.tensor(batch[\"Title\"], dtype=torch.int64).cuda()\n",
    "desc_ix = torch.tensor(batch[\"FullDescription\"], dtype=torch.int64).cuda()\n",
    "cat_features = torch.tensor(batch[\"Categorical\"], dtype=torch.float32).cuda()\n",
    "with torch.no_grad():\n",
    "    print(\"Salary (gbp):\", float(model(title_ix, desc_ix, cat_features)))\n",
    "\n",
    "tokens_and_weights = explain(model, sample, \"Title\")\n",
    "draw_html([(tok, weight * 5) for tok, weight in tokens_and_weights], font_style='font-size:20px;');\n",
    "\n",
    "tokens_and_weights = explain(model, sample, \"FullDescription\")\n",
    "draw_html([(tok, weight * 10) for tok, weight in tokens_and_weights]);"
   ]
  },
  {
   "cell_type": "markdown",
   "metadata": {},
   "source": [
    "### Task 4: Actually make it work\n",
    "\n",
    "Your main task is to use some of the tricks you've learned on the network and analyze if you can improve __validation MAE__.\n",
    "\n",
    "Try __at least 3 options__ from the list below for a passing grade. If you're into \n",
    "\n",
    "#### A) CNN architecture\n",
    "\n",
    "All the tricks you know about dense and convolutional neural networks apply here as well.\n",
    "* Dropout. Nuff said.\n",
    "* Batch Norm. This time it's `nn.BatchNorm1d`\n",
    "* Parallel convolution layers. The idea is that you apply several nn.Conv1d to the same embeddings and concatenate output channels.\n",
    "* More layers, more neurons, ya know...\n",
    "\n",
    "\n",
    "#### B) Play with pooling\n",
    "\n",
    "There's more than one way to do max pooling:\n",
    "* Max over time - our `GlobalMaxPooling`\n",
    "* Average over time (excluding PAD)\n",
    "* Softmax-pooling:\n",
    "$$ out_{i, t} = \\sum_t {h_{i,t} \\cdot {{e ^ {h_{i, t}}} \\over \\sum_\\tau e ^ {h_{j, \\tau}} } }$$\n",
    "\n",
    "* Attentive pooling\n",
    "$$ out_{i, t} = \\sum_t {h_{i,t} \\cdot Attn(h_t)}$$\n",
    "\n",
    ", where $$ Attn(h_t) = {{e ^ {NN_{attn}(h_t)}} \\over \\sum_\\tau e ^ {NN_{attn}(h_\\tau)}}  $$\n",
    "and $NN_{attn}$ is a small neural network\n",
    "\n",
    "\n",
    "The optimal score is usually achieved by concatenating several different poolings, including several attentive pooling with different $NN_{attn}$\n",
    "\n",
    "#### C) Fun with embeddings\n",
    "\n",
    "It's not always a good idea to train embeddings from scratch. Here's a few tricks:\n",
    "\n",
    "* Use a pre-trained word2vec from [here](http://ahogrammer.com/2017/01/20/the-list-of-pretrained-word-embeddings/) or [here](http://mccormickml.com/2016/04/12/googles-pretrained-word2vec-model-in-python/).\n",
    "* Start with pre-trained embeddings, then fine-tune them with gradient descent\n",
    "* Use the same embedding matrix in title and desc vectorizer\n",
    "\n",
    "#### D) Going recurrent\n",
    "\n",
    "We've already learned that recurrent networks can do cool stuff in sequence modelling. Turns out, they're not useless for classification as well. With some tricks of course..\n",
    "\n",
    "* Like convolutional layers, LSTM should be pooled into a fixed-size vector with some of the poolings.\n",
    "  * Please bear in mind that while convolution uses [batch, units, time] dim order, \n",
    "    recurrent units are built for [batch, time, unit]. You may need to `torch.transpose`.\n",
    "\n",
    "* Since you know all the text in advance, use bidirectional RNN\n",
    "  * Run one LSTM from left to right\n",
    "  * Run another in parallel from right to left \n",
    "  * Concatenate their output sequences along unit axis (dim=-1)\n",
    "\n",
    "* It might be good idea to mix convolutions and recurrent layers differently for title and description\n",
    "\n",
    "\n",
    "#### E) Optimizing seriously\n",
    "\n",
    "* You don't necessarily need 100 epochs. Use early stopping. If you've never done this before, take a look at [keras](https://github.com/keras-team/keras/blob/master/keras/callbacks.py#L461) for inspiration.\n",
    "  * In short, train until you notice that validation\n",
    "  * Maintain the best-on-validation snapshot via `model.state_dict`\n",
    "  * Plotting learning curves is usually a good idea"
   ]
  },
  {
   "cell_type": "markdown",
   "metadata": {},
   "source": [
    "### A short report\n",
    "\n",
    "Please tell us what you did and how did it work.\n",
    "\n",
    "`<YOUR_TEXT_HERE>`, i guess..."
   ]
  },
  {
   "cell_type": "markdown",
   "metadata": {},
   "source": [
    "First, I boosted training by moving it to GPU. \n",
    "\n",
    "Then, implemented option **E**. A snapshot of *model.state_dict* was made whenever best val MAE is beaten. Early stopping was done if no snap during *patience=5* epochs. Loss and MAE was plotted on each epoch using *livelossplot*.\n",
    "\n",
    "Next option - **C**. I used the pre-trained embeddings from the second link. The words not found in it (including Capital first letter and CAPS) where initialized randomly with a similar distribution (approx. std=0.13, mean=0). I found that freezing embedding layer weights for several epochs did not work better than training it from the beginning. So, the weights were not frozen in later experiments. For fair comparison, embeddings of 300 were used when training from scratch as well.\n",
    "\n",
    "**Foundings:** using pre-trained embeddings improves the result. Freezeing them until loss saturates, then unfreezing, and training further improves relusts even more.\n",
    "\n",
    "Comparison:\n",
    "\n",
    "<table>\n",
    " <tr>\n",
    "  <th></th>\n",
    "  <th>Random emb</th>\n",
    "  <th>Google's emb</th>\n",
    "  <th>Google's emb (freeze/unfreeze)</th>\n",
    "  <th></th>\n",
    "  <th></th>\n",
    " </tr>\n",
    " <tr>\n",
    "  <td>Best val MAE</td>\n",
    "  <td>2615.289</td>\n",
    "  <td>2499.929</td>\n",
    "  <td>2243.556</td>\n",
    "  <td>0</td>\n",
    "  <td>0</td>\n",
    " </tr>\n",
    "</table>"
   ]
  }
 ],
 "metadata": {
  "kernelspec": {
   "display_name": "Python 3",
   "language": "python",
   "name": "python3"
  },
  "language_info": {
   "codemirror_mode": {
    "name": "ipython",
    "version": 3
   },
   "file_extension": ".py",
   "mimetype": "text/x-python",
   "name": "python",
   "nbconvert_exporter": "python",
   "pygments_lexer": "ipython3",
   "version": "3.6.8"
  },
  "widgets": {
   "application/vnd.jupyter.widget-state+json": {
    "state": {},
    "version_major": 2,
    "version_minor": 0
   }
  }
 },
 "nbformat": 4,
 "nbformat_minor": 2
}
